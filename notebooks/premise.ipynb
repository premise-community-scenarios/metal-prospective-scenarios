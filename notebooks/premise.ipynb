{
 "cells": [
  {
   "cell_type": "markdown",
   "id": "b5c49dbc",
   "metadata": {},
   "source": [
    "Code to generate prospective databases using Premise ;)"
   ]
  },
  {
   "cell_type": "code",
   "execution_count": null,
   "id": "fb08b6a3",
   "metadata": {},
   "outputs": [],
   "source": [
    "pip install premise"
   ]
  },
  {
   "cell_type": "code",
   "execution_count": 1,
   "id": "fd4cfc75-a363-4b4e-9fcd-e653b3ff9a4a",
   "metadata": {},
   "outputs": [],
   "source": [
    "import brightway2 as bw2\n",
    "from brightway2 import *\n",
    "import pandas as pd\n",
    "import numpy as np\n",
    "from premise import *\n",
    "from premise import NewDatabase"
   ]
  },
  {
   "cell_type": "code",
   "execution_count": 2,
   "id": "4bacdbce-3cb6-4c65-99ce-e448c273ee82",
   "metadata": {},
   "outputs": [
    {
     "data": {
      "text/plain": [
       "Brightway2 projects manager with 2 objects:\n",
       "\tdefault\n",
       "\tmetals_v1\n",
       "Use `projects.report()` to get a report on all projects."
      ]
     },
     "execution_count": 2,
     "metadata": {},
     "output_type": "execute_result"
    }
   ],
   "source": [
    "projects"
   ]
  },
  {
   "cell_type": "code",
   "execution_count": 2,
   "metadata": {},
   "outputs": [],
   "source": [
    "projects.set_current('metals_v1')"
   ]
  },
  {
   "cell_type": "code",
   "execution_count": 4,
   "id": "1a7fa09d",
   "metadata": {},
   "outputs": [],
   "source": [
    "from datapackage import Package"
   ]
  },
  {
   "cell_type": "code",
   "execution_count": 5,
   "metadata": {},
   "outputs": [],
   "source": [
    "#Import metals scenario created\n",
    "fp = r\"/Users/margueritefauroux/Desktop/PDM/Code/metals-prospective-scenarios/datapackage.json\"\n",
    "metals2050 = Package(fp)"
   ]
  },
  {
   "cell_type": "code",
   "execution_count": 9,
   "id": "386a9952",
   "metadata": {},
   "outputs": [
    {
     "name": "stdout",
     "output_type": "stream",
     "text": [
      "Cache folder cleared!\n"
     ]
    }
   ],
   "source": [
    "clear_cache()"
   ]
  },
  {
   "cell_type": "code",
   "execution_count": null,
   "id": "280c79eb",
   "metadata": {},
   "outputs": [],
   "source": [
    "ndb = NewDatabase(\n",
    "            scenarios = [\n",
    "                {\"model\":\"remind\", \"pathway\":\"SSP2-PkBudg500\", \"year\":2022},\n",
    "                {\"model\":\"remind\", \"pathway\":\"SSP2-PkBudg500\", \"year\":2025},\n",
    "                {\"model\":\"remind\", \"pathway\":\"SSP2-PkBudg500\", \"year\":2030},\n",
    "                {\"model\":\"remind\", \"pathway\":\"SSP2-PkBudg500\", \"year\":2035},\n",
    "                {\"model\":\"remind\", \"pathway\":\"SSP2-PkBudg500\", \"year\":2040},\n",
    "                {\"model\":\"remind\", \"pathway\":\"SSP2-PkBudg500\", \"year\":2045},\n",
    "                {\"model\":\"remind\", \"pathway\":\"SSP2-PkBudg500\", \"year\":2050},\n",
    "            ],        \n",
    "            source_db=\"cutoff38_regio_copy\",\n",
    "            source_version=\"3.8\",\n",
    "            key='tUePmX_S5B8ieZkkM7WUU2CnO8SmShwmAeWK9x2rTFo=',\n",
    "            external_scenarios=[metals2050]\n",
    "        )\n",
    "\n",
    "ndb.update()"
   ]
  },
  {
   "cell_type": "code",
   "execution_count": null,
   "id": "54d81bd3",
   "metadata": {},
   "outputs": [],
   "source": [
    "ndb.write_db_to_brightway(name=[\"NZE_2022\",\"NZE_2025\",\"NZE_2030\",\"NZE_2035\",\"NZE_2040\",\"NZE_2045\",\"NZE_2050\"])"
   ]
  },
  {
   "cell_type": "code",
   "execution_count": null,
   "id": "23e39a67",
   "metadata": {},
   "outputs": [],
   "source": [
    "ndb = NewDatabase(\n",
    "            scenarios = [\n",
    "                {\"model\":\"remind\", \"pathway\":\"SSP2-NPi\", \"year\":2022},\n",
    "                {\"model\":\"remind\", \"pathway\":\"SSP2-NPi\", \"year\":2025},\n",
    "                {\"model\":\"remind\", \"pathway\":\"SSP2-NPi\", \"year\":2030},\n",
    "                {\"model\":\"remind\", \"pathway\":\"SSP2-NPi\", \"year\":2035},\n",
    "                {\"model\":\"remind\", \"pathway\":\"SSP2-NPi\", \"year\":2040},\n",
    "                {\"model\":\"remind\", \"pathway\":\"SSP2-NPi\", \"year\":2045},\n",
    "                {\"model\":\"remind\", \"pathway\":\"SSP2-NPi\", \"year\":2050},\n",
    "            ],        \n",
    "            source_db=\"cutoff38_regio_copy\",\n",
    "            source_version=\"3.8\",\n",
    "            key='tUePmX_S5B8ieZkkM7WUU2CnO8SmShwmAeWK9x2rTFo=',\n",
    "            external_scenarios=[metals2050]\n",
    "        )\n",
    "\n",
    "ndb.update()"
   ]
  },
  {
   "cell_type": "code",
   "execution_count": null,
   "metadata": {},
   "outputs": [],
   "source": [
    "ndb.write_db_to_brightway(name=[\"SPS_2022\",\"SPS_2025\",\"SPS_2030\",\"SPS_2035\",\"SPS_2040\",\"SPS_2045\",\"SPS_2050\"])"
   ]
  },
  {
   "cell_type": "markdown",
   "id": "62cdb8f9",
   "metadata": {},
   "source": [
    "Check the number of activities with water flows in weird remind regions"
   ]
  },
  {
   "cell_type": "code",
   "execution_count": 11,
   "id": "b44f5c04",
   "metadata": {},
   "outputs": [],
   "source": [
    "db_premise = bw2.Database('SPS_2022')"
   ]
  },
  {
   "cell_type": "code",
   "execution_count": 19,
   "id": "ffec53c7",
   "metadata": {},
   "outputs": [],
   "source": [
    "db_ei = bw2.Database('cutoff38')"
   ]
  },
  {
   "cell_type": "code",
   "execution_count": 32,
   "id": "a5eacc45",
   "metadata": {},
   "outputs": [],
   "source": [
    "db_biosphere = bw2.Database(\"biosphere_regionalized_water_flows\")"
   ]
  },
  {
   "cell_type": "code",
   "execution_count": 12,
   "id": "7a4e18bf",
   "metadata": {},
   "outputs": [],
   "source": [
    "activities_lam = [act for act in db_premise if \"LAM\" in act['location']]"
   ]
  },
  {
   "cell_type": "code",
   "execution_count": 61,
   "id": "0376274d",
   "metadata": {},
   "outputs": [],
   "source": [
    "activities_caz = [act for act in db_premise if \"CAZ\" in act['location']]"
   ]
  },
  {
   "cell_type": "code",
   "execution_count": 36,
   "id": "64dc2d23",
   "metadata": {},
   "outputs": [],
   "source": [
    "water_flows = [flow for flow in bw2.Database('biosphere_regionalized_water_flows') if 'Water, ' in flow.as_dict()['name']]"
   ]
  },
  {
   "cell_type": "code",
   "execution_count": 57,
   "id": "62ca5b91",
   "metadata": {},
   "outputs": [],
   "source": [
    "activities_with_water_flows = [act for act in activities_lam if any(flow['code'] in [exc['input'][1] for exc in act.biosphere()] for flow in water_flows)]"
   ]
  },
  {
   "cell_type": "code",
   "execution_count": 60,
   "id": "8ba4a412",
   "metadata": {},
   "outputs": [
    {
     "name": "stdout",
     "output_type": "stream",
     "text": [
      "cement production, limestone 6-10%\n",
      "electricity production, natural gas, combined cycle power plant\n",
      "steel production, electric, chromium steel 18/8\n",
      "cement production, blast furnace slag 6-34%\n",
      "clinker production\n",
      "steel production, converter, unalloyed\n",
      "electricity production, natural gas, subcritical, steam cycle\n",
      "steel production, converter, low-alloyed\n",
      "treatment of copper scrap by electrolytic refining\n",
      "electricity production, nuclear, pressure water reactor\n",
      "steel production, electric, low-alloyed\n",
      "cement production, pozzolana and fly ash 6-14%\n",
      "heat and power co-generation, natural gas, conventional power plant, 100MW electrical\n",
      "market for diesel, low-sulfur, 60-year period\n",
      "pig iron production\n",
      "market for diesel, low-sulfur, 40-year period\n",
      "copper production, cathode, solvent extraction and electrowinning process\n",
      "market for diesel, low-sulfur, 20-year period\n",
      "electricity production, hard coal, subcritical\n",
      "market for diesel\n",
      "electricity production, natural gas, gas turbine, conventional power plant\n",
      "steam production, as energy carrier, in chemical industry\n",
      "market for diesel, low-sulfur\n",
      "heat and power co-generation, natural gas, combined cycle power plant, 400MW electrical\n",
      "cement production, pozzolana and fly ash 15-50%\n",
      "cement production, blast furnace slag 35-70%\n"
     ]
    }
   ],
   "source": [
    "for act in activities_with_water_flows:\n",
    "    print(act['name'])"
   ]
  },
  {
   "cell_type": "code",
   "execution_count": 62,
   "id": "3eb0f713",
   "metadata": {},
   "outputs": [],
   "source": [
    "activities_with_water_flows_caz = [act for act in activities_caz if any(flow['code'] in [exc['input'][1] for exc in act.biosphere()] for flow in water_flows)]"
   ]
  },
  {
   "cell_type": "code",
   "execution_count": 63,
   "id": "aa8b1218",
   "metadata": {},
   "outputs": [
    {
     "name": "stdout",
     "output_type": "stream",
     "text": [
      "market for diesel\n",
      "steel production, electric, low-alloyed\n",
      "heat and power co-generation, natural gas, combined cycle power plant, 400MW electrical\n",
      "pig iron production\n",
      "cement production, blast furnace slag 6-34%\n",
      "electricity production, natural gas, gas turbine, conventional power plant\n",
      "steam production, as energy carrier, in chemical industry\n",
      "market for diesel, low-sulfur, 20-year period\n",
      "market for diesel, low-sulfur, 40-year period\n",
      "cement production, limestone 6-10%\n",
      "steel production, converter, low-alloyed\n",
      "market for diesel, low-sulfur, 60-year period\n",
      "steel production, converter, unalloyed\n",
      "heat and power co-generation, natural gas, conventional power plant, 100MW electrical\n",
      "steel production, electric, chromium steel 18/8\n",
      "market for diesel, low-sulfur\n",
      "cement production, pozzolana and fly ash 6-14%\n",
      "electricity production, hard coal, subcritical\n",
      "cement production, blast furnace slag 35-70%\n",
      "clinker production\n",
      "electricity production, natural gas, subcritical, steam cycle\n",
      "cement production, pozzolana and fly ash 15-50%\n"
     ]
    }
   ],
   "source": [
    "for act in activities_with_water_flows_caz:\n",
    "    print(act['name'])"
   ]
  },
  {
   "cell_type": "code",
   "execution_count": 21,
   "metadata": {},
   "outputs": [],
   "source": [
    "ei38 = bw2.Database('cutoff38')"
   ]
  },
  {
   "cell_type": "code",
   "execution_count": null,
   "id": "afe5cfce",
   "metadata": {},
   "outputs": [],
   "source": [
    "database_source = Database(\"cutoff38_regionalized\")\n",
    "database_copy = database_source.copy(\"cutoff38_regio_copy\")"
   ]
  }
 ],
 "metadata": {
  "kernelspec": {
   "display_name": "Python 3 (ipykernel)",
   "language": "python",
   "name": "python3"
  },
  "language_info": {
   "codemirror_mode": {
    "name": "ipython",
    "version": 3
   },
   "file_extension": ".py",
   "mimetype": "text/x-python",
   "name": "python",
   "nbconvert_exporter": "python",
   "pygments_lexer": "ipython3",
   "version": "3.11.0"
  }
 },
 "nbformat": 4,
 "nbformat_minor": 5
}
